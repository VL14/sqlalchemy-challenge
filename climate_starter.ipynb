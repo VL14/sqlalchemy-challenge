{
 "cells": [
  {
   "cell_type": "code",
   "execution_count": 81,
   "metadata": {},
   "outputs": [],
   "source": [
    "%matplotlib inline\n",
    "from matplotlib import style\n",
    "style.use('fivethirtyeight')\n",
    "import matplotlib.pyplot as plt"
   ]
  },
  {
   "cell_type": "code",
   "execution_count": 82,
   "metadata": {},
   "outputs": [],
   "source": [
    "import numpy as np\n",
    "import pandas as pd"
   ]
  },
  {
   "cell_type": "code",
   "execution_count": 83,
   "metadata": {},
   "outputs": [],
   "source": [
    "import datetime as dt"
   ]
  },
  {
   "cell_type": "markdown",
   "metadata": {},
   "source": [
    "# Reflect Tables into SQLAlchemy ORM"
   ]
  },
  {
   "cell_type": "code",
   "execution_count": 84,
   "metadata": {},
   "outputs": [],
   "source": [
    "# Python SQL toolkit and Object Relational Mapper\n",
    "import sqlalchemy\n",
    "from sqlalchemy.ext.automap import automap_base\n",
    "from sqlalchemy.orm import Session\n",
    "from sqlalchemy import create_engine, func"
   ]
  },
  {
   "cell_type": "code",
   "execution_count": 85,
   "metadata": {},
   "outputs": [],
   "source": [
    "# Create database connection\n",
    "engine = create_engine(\"sqlite:///hawaii.sqlite\")"
   ]
  },
  {
   "cell_type": "code",
   "execution_count": 86,
   "metadata": {},
   "outputs": [],
   "source": [
    "# reflect an existing database into a new model\n",
    "Base = automap_base()"
   ]
  },
  {
   "cell_type": "code",
   "execution_count": 87,
   "metadata": {},
   "outputs": [
    {
     "output_type": "execute_result",
     "data": {
      "text/plain": "['measurement', 'station']"
     },
     "metadata": {},
     "execution_count": 87
    }
   ],
   "source": [
    "# reflect the tables\n",
    "Base.prepare(engine, reflect=True)\n",
    "\n",
    "# View the classes imported\n",
    "Base.classes.keys()"
   ]
  },
  {
   "cell_type": "code",
   "execution_count": 88,
   "metadata": {},
   "outputs": [],
   "source": [
    "# Save references to each table\n",
    "Measurement = Base.classes.measurement\n",
    "Station = Base.classes.station"
   ]
  },
  {
   "cell_type": "code",
   "execution_count": 89,
   "metadata": {},
   "outputs": [],
   "source": [
    "# Create our session (link) from Python to the DB\n",
    "session = Session(engine)"
   ]
  },
  {
   "cell_type": "code",
   "execution_count": 90,
   "metadata": {},
   "outputs": [
    {
     "output_type": "execute_result",
     "data": {
      "text/plain": "{'_sa_instance_state': <sqlalchemy.orm.state.InstanceState at 0x1fae56346a0>,\n 'tobs': 65.0,\n 'date': '2010-01-01',\n 'id': 1,\n 'prcp': 0.08,\n 'station': 'USC00519397'}"
     },
     "metadata": {},
     "execution_count": 90
    }
   ],
   "source": [
    "# Display Measurement data in dictionary format\n",
    "first_row = session.query(Measurement).first()\n",
    "first_row.__dict__"
   ]
  },
  {
   "cell_type": "code",
   "execution_count": 112,
   "metadata": {},
   "outputs": [
    {
     "output_type": "stream",
     "name": "stdout",
     "text": "Prcp: 0.08\nPrcp: 0.08\nPrcp: 0.08\nPrcp: 0.08\nPrcp: 0.08\nPrcp: 0.08\nPrcp: 0.08\nPrcp: 0.08\nPrcp: 0.08\nPrcp: 0.08\nPrcp: 0.08\nPrcp: 0.08\nPrcp: 0.08\nPrcp: 0.08\nPrcp: 0.08\nPrcp: 0.08\nPrcp: 0.08\nPrcp: 0.08\nPrcp: 0.08\nPrcp: 0.08\nPrcp: 0.08\nPrcp: 0.08\nPrcp: 0.08\nPrcp: 0.08\nPrcp: 0.08\nPrcp: 0.08\nPrcp: 0.08\nPrcp: 0.08\nPrcp: 0.08\nPrcp: 0.08\nPrcp: 0.08\nPrcp: 0.08\nPrcp: 0.08\nPrcp: 0.08\nPrcp: 0.08\nPrcp: 0.08\nPrcp: 0.08\nPrcp: 0.08\nPrcp: 0.08\nPrcp: 0.08\nPrcp: 0.08\nPrcp: 0.08\nPrcp: 0.08\nPrcp: 0.08\nPrcp: 0.08\nPrcp: 0.08\nPrcp: 0.08\nPrcp: 0.08\nPrcp: 0.08\nPrcp: 0.08\nPrcp: 0.08\nPrcp: 0.08\nPrcp: 0.08\nPrcp: 0.08\nPrcp: 0.08\nPrcp: 0.08\nPrcp: 0.08\nPrcp: 0.08\nPrcp: 0.08\nPrcp: 0.08\nPrcp: 0.08\nPrcp: 0.08\nPrcp: 0.08\nPrcp: 0.08\nPrcp: 0.08\nPrcp: 0.08\nPrcp: 0.08\nPrcp: 0.08\nPrcp: 0.08\nPrcp: 0.08\nPrcp: 0.08\nPrcp: 0.08\nPrcp: 0.08\nPrcp: 0.08\nPrcp: 0.08\nPrcp: 0.08\nPrcp: 0.08\nPrcp: 0.08\nPrcp: 0.08\nPrcp: 0.08\nPrcp: 0.08\nPrcp: 0.08\nPrcp: 0.08\nPrcp: 0.08\nPrcp: 0.08\nPrcp: 0.08\nPrcp: 0.08\nPrcp: 0.08\nPrcp: 0.08\nPrcp: 0.08\nPrcp: 0.08\nPrcp: 0.08\nPrcp: 0.08\nPrcp: 0.08\nPrcp: 0.08\nPrcp: 0.08\nPrcp: 0.08\nPrcp: 0.08\nPrcp: 0.08\nPrcp: 0.08\nPrcp: 0.08\nPrcp: 0.08\nPrcp: 0.08\nPrcp: 0.08\nPrcp: 0.08\nPrcp: 0.08\nPrcp: 0.08\nPrcp: 0.08\nPrcp: 0.08\nPrcp: 0.08\nPrcp: 0.08\nPrcp: 0.08\nPrcp: 0.08\nPrcp: 0.08\nPrcp: 0.08\nPrcp: 0.08\nPrcp: 0.08\nPrcp: 0.08\nPrcp: 0.08\nPrcp: 0.08\nPrcp: 0.08\nPrcp: 0.08\nPrcp: 0.08\nPrcp: 0.08\nPrcp: 0.08\nPrcp: 0.08\nPrcp: 0.08\nPrcp: 0.08\nPrcp: 0.08\nPrcp: 0.08\nPrcp: 0.08\nPrcp: 0.08\nPrcp: 0.08\nPrcp: 0.08\nPrcp: 0.08\nPrcp: 0.08\nPrcp: 0.08\nPrcp: 0.08\nPrcp: 0.08\nPrcp: 0.08\nPrcp: 0.08\nPrcp: 0.08\nPrcp: 0.08\nPrcp: 0.08\nPrcp: 0.08\nPrcp: 0.08\nPrcp: 0.08\nPrcp: 0.08\nPrcp: 0.08\nPrcp: 0.08\nPrcp: 0.08\nPrcp: 0.08\nPrcp: 0.08\nPrcp: 0.08\nPrcp: 0.08\nPrcp: 0.08\nPrcp: 0.08\nPrcp: 0.08\nPrcp: 0.08\nPrcp: 0.08\nPrcp: 0.08\nPrcp: 0.08\nPrcp: 0.08\nPrcp: 0.08\nPrcp: 0.08\nPrcp: 0.08\nPrcp: 0.08\nPrcp: 0.08\nPrcp: 0.08\nPrcp: 0.08\nPrcp: 0.08\nPrcp: 0.08\nPrcp: 0.08\nPrcp: 0.08\nPrcp: 0.08\nPrcp: 0.08\nPrcp: 0.08\nPrcp: 0.08\nPrcp: 0.08\nPrcp: 0.08\nPrcp: 0.08\nPrcp: 0.08\nPrcp: 0.08\nPrcp: 0.08\nPrcp: 0.08\nPrcp: 0.08\nPrcp: 0.08\nPrcp: 0.08\nPrcp: 0.08\nPrcp: 0.08\nPrcp: 0.08\nPrcp: 0.08\nPrcp: 0.08\nPrcp: 0.08\nPrcp: 0.08\nPrcp: 0.08\nPrcp: 0.08\nPrcp: 0.08\nPrcp: 0.08\nPrcp: 0.08\nPrcp: 0.08\nPrcp: 0.08\nPrcp: 0.08\nPrcp: 0.08\nPrcp: 0.08\nPrcp: 0.08\nPrcp: 0.08\nPrcp: 0.08\nPrcp: 0.08\nPrcp: 0.08\nPrcp: 0.08\nPrcp: 0.08\nPrcp: 0.08\nPrcp: 0.08\nPrcp: 0.08\nPrcp: 0.08\nPrcp: 0.08\nPrcp: 0.08\nPrcp: 0.08\nPrcp: 0.08\nPrcp: 0.08\nPrcp: 0.08\nPrcp: 0.08\nPrcp: 0.08\nPrcp: 0.08\nPrcp: 0.08\nPrcp: 0.08\nPrcp: 0.08\nPrcp: 0.08\nPrcp: 0.08\nPrcp: 0.08\nPrcp: 0.08\nPrcp: 0.08\nPrcp: 0.08\nPrcp: 0.08\nPrcp: 0.08\nPrcp: 0.08\nPrcp: 0.08\nPrcp: 0.08\nPrcp: 0.08\nPrcp: 0.08\nPrcp: 0.08\nPrcp: 0.08\nPrcp: 0.08\nPrcp: 0.08\nPrcp: 0.08\nPrcp: 0.08\nPrcp: 0.08\nPrcp: 0.08\nPrcp: 0.08\nPrcp: 0.08\nPrcp: 0.08\nPrcp: 0.08\nPrcp: 0.08\nPrcp: 0.08\nPrcp: 0.08\nPrcp: 0.08\nPrcp: 0.08\nPrcp: 0.08\nPrcp: 0.08\nPrcp: 0.08\nPrcp: 0.08\nPrcp: 0.08\nPrcp: 0.08\nPrcp: 0.08\nPrcp: 0.08\nPrcp: 0.08\nPrcp: 0.08\nPrcp: 0.08\nPrcp: 0.08\nPrcp: 0.08\nPrcp: 0.08\nPrcp: 0.08\nPrcp: 0.08\nPrcp: 0.08\nPrcp: 0.08\nPrcp: 0.08\nPrcp: 0.08\nPrcp: 0.08\nPrcp: 0.08\nPrcp: 0.08\nPrcp: 0.08\nPrcp: 0.08\nPrcp: 0.08\nPrcp: 0.08\nPrcp: 0.08\nPrcp: 0.08\nPrcp: 0.08\nPrcp: 0.08\nPrcp: 0.08\nPrcp: 0.08\nPrcp: 0.08\nPrcp: 0.08\nPrcp: 0.08\nPrcp: 0.08\nPrcp: 0.08\nPrcp: 0.08\nPrcp: 0.08\nPrcp: 0.08\nPrcp: 0.08\nPrcp: 0.08\nPrcp: 0.08\nPrcp: 0.08\nPrcp: 0.08\nPrcp: 0.08\nPrcp: 0.08\nPrcp: 0.08\nPrcp: 0.08\nPrcp: 0.08\nPrcp: 0.08\nPrcp: 0.08\nPrcp: 0.08\n"
    }
   ],
   "source": [
    "prcp_test = session.query(Measurement).filter(Measurement.prcp == 0.08).all()\n",
    "for row in prcp_test:\n",
    "    print(f\"Prcp: {row.prcp}\")"
   ]
  },
  {
   "cell_type": "markdown",
   "metadata": {},
   "source": [
    "# Exploratory Climate Analysis"
   ]
  },
  {
   "cell_type": "code",
   "execution_count": 118,
   "metadata": {
    "tags": [
     "outputPrepend"
    ]
   },
   "outputs": [
    {
     "output_type": "error",
     "ename": "SyntaxError",
     "evalue": "EOL while scanning string literal (<ipython-input-118-85cf77747b8b>, line 4)",
     "traceback": [
      "\u001b[1;36m  File \u001b[1;32m\"<ipython-input-118-85cf77747b8b>\"\u001b[1;36m, line \u001b[1;32m4\u001b[0m\n\u001b[1;33m    print(f\"The last date in the file is {last_date}.)\u001b[0m\n\u001b[1;37m                                                      ^\u001b[0m\n\u001b[1;31mSyntaxError\u001b[0m\u001b[1;31m:\u001b[0m EOL while scanning string literal\n"
     ]
    }
   ],
   "source": [
    "# Design a query to retrieve the last 12 months of precipitation data and plot the results\n",
    "# Calculate the date 1 year ago from the last data point in the database\n",
    "last_date = session.query(Measurement.prcp).order_by(Measurement.prcp.desc()).first()\n",
    "print(f\"The last date in the file is {last_date}.)\n",
    "\n",
    "# ***FIX: NOT WORKING***"
   ]
  },
  {
   "cell_type": "code",
   "execution_count": 126,
   "metadata": {},
   "outputs": [
    {
     "output_type": "execute_result",
     "data": {
      "text/plain": "date     object\nprcp    float64\ndtype: object"
     },
     "metadata": {},
     "execution_count": 126
    }
   ],
   "source": [
    "# Perform a query to retrieve the date and precipitation scores\n",
    "date_prcp = session.query(Measurement.date, Measurement.prcp).all()\n",
    "\n",
    "# Save the query results as a Pandas DataFrame and set the index to the date column\n",
    "prcp_df = pd.DataFrame(date_prcp)\n",
    "prcp_df.dtypes"
   ]
  },
  {
   "cell_type": "code",
   "execution_count": 127,
   "metadata": {},
   "outputs": [
    {
     "output_type": "error",
     "ename": "AttributeError",
     "evalue": "'DataFrame' object has no attribute 'to_datetime'",
     "traceback": [
      "\u001b[1;31m---------------------------------------------------------------------------\u001b[0m",
      "\u001b[1;31mAttributeError\u001b[0m                            Traceback (most recent call last)",
      "\u001b[1;32m<ipython-input-127-011a1cad9786>\u001b[0m in \u001b[0;36m<module>\u001b[1;34m\u001b[0m\n\u001b[0;32m      6\u001b[0m \u001b[1;33m\u001b[0m\u001b[0m\n\u001b[0;32m      7\u001b[0m \u001b[1;31m# Convert dates from strings to datetime\u001b[0m\u001b[1;33m\u001b[0m\u001b[1;33m\u001b[0m\u001b[1;33m\u001b[0m\u001b[0m\n\u001b[1;32m----> 8\u001b[1;33m \u001b[0mprcp_by_date\u001b[0m\u001b[1;33m.\u001b[0m\u001b[0miloc\u001b[0m\u001b[1;33m[\u001b[0m\u001b[0mprcp_by_date\u001b[0m\u001b[1;33m.\u001b[0m\u001b[0mto_datetime\u001b[0m\u001b[1;33m(\u001b[0m\u001b[0mprcp_by_date\u001b[0m\u001b[1;33m.\u001b[0m\u001b[0mdate\u001b[0m\u001b[1;33m)\u001b[0m\u001b[1;33m.\u001b[0m\u001b[0mvalues\u001b[0m\u001b[1;33m.\u001b[0m\u001b[0margsort\u001b[0m\u001b[1;33m(\u001b[0m\u001b[1;33m)\u001b[0m\u001b[1;33m]\u001b[0m\u001b[1;33m\u001b[0m\u001b[1;33m\u001b[0m\u001b[0m\n\u001b[0m\u001b[0;32m      9\u001b[0m \u001b[0mprcp_by_date\u001b[0m\u001b[1;33m.\u001b[0m\u001b[0mdtypes\u001b[0m\u001b[1;33m\u001b[0m\u001b[1;33m\u001b[0m\u001b[0m\n\u001b[0;32m     10\u001b[0m \u001b[1;33m\u001b[0m\u001b[0m\n",
      "\u001b[1;32m~\\Anaconda3\\envs\\PythonData\\lib\\site-packages\\pandas\\core\\generic.py\u001b[0m in \u001b[0;36m__getattr__\u001b[1;34m(self, name)\u001b[0m\n\u001b[0;32m   5272\u001b[0m             \u001b[1;32mif\u001b[0m \u001b[0mself\u001b[0m\u001b[1;33m.\u001b[0m\u001b[0m_info_axis\u001b[0m\u001b[1;33m.\u001b[0m\u001b[0m_can_hold_identifiers_and_holds_name\u001b[0m\u001b[1;33m(\u001b[0m\u001b[0mname\u001b[0m\u001b[1;33m)\u001b[0m\u001b[1;33m:\u001b[0m\u001b[1;33m\u001b[0m\u001b[1;33m\u001b[0m\u001b[0m\n\u001b[0;32m   5273\u001b[0m                 \u001b[1;32mreturn\u001b[0m \u001b[0mself\u001b[0m\u001b[1;33m[\u001b[0m\u001b[0mname\u001b[0m\u001b[1;33m]\u001b[0m\u001b[1;33m\u001b[0m\u001b[1;33m\u001b[0m\u001b[0m\n\u001b[1;32m-> 5274\u001b[1;33m             \u001b[1;32mreturn\u001b[0m \u001b[0mobject\u001b[0m\u001b[1;33m.\u001b[0m\u001b[0m__getattribute__\u001b[0m\u001b[1;33m(\u001b[0m\u001b[0mself\u001b[0m\u001b[1;33m,\u001b[0m \u001b[0mname\u001b[0m\u001b[1;33m)\u001b[0m\u001b[1;33m\u001b[0m\u001b[1;33m\u001b[0m\u001b[0m\n\u001b[0m\u001b[0;32m   5275\u001b[0m \u001b[1;33m\u001b[0m\u001b[0m\n\u001b[0;32m   5276\u001b[0m     \u001b[1;32mdef\u001b[0m \u001b[0m__setattr__\u001b[0m\u001b[1;33m(\u001b[0m\u001b[0mself\u001b[0m\u001b[1;33m,\u001b[0m \u001b[0mname\u001b[0m\u001b[1;33m:\u001b[0m \u001b[0mstr\u001b[0m\u001b[1;33m,\u001b[0m \u001b[0mvalue\u001b[0m\u001b[1;33m)\u001b[0m \u001b[1;33m->\u001b[0m \u001b[1;32mNone\u001b[0m\u001b[1;33m:\u001b[0m\u001b[1;33m\u001b[0m\u001b[1;33m\u001b[0m\u001b[0m\n",
      "\u001b[1;31mAttributeError\u001b[0m: 'DataFrame' object has no attribute 'to_datetime'"
     ]
    }
   ],
   "source": [
    "# Remove null values\n",
    "prcp_clean = prcp_df.dropna()\n",
    "\n",
    "# Sort the dataframe by date\n",
    "prcp_by_date = prcp_clean.sort_values(by=['date'])\n",
    "\n",
    "# Convert dates from strings to datetime\n",
    "prcp_by_date.iloc[prcp_by_date.to_datetime(prcp_by_date.date).values.argsort()]\n",
    "prcp_by_date.dtypes\n",
    "\n",
    "# Keep only last 12 months worth of data\n",
    "prcp_12mos = prcp_by_date(date > 2016-08-23)\n",
    "\n",
    "# Use Pandas Plotting with Matplotlib plot the data"
   ]
  },
  {
   "cell_type": "code",
   "execution_count": 93,
   "metadata": {},
   "outputs": [],
   "source": [
    "# Use Pandas to calcualte the summary statistics for the precipitation data"
   ]
  },
  {
   "cell_type": "code",
   "execution_count": 94,
   "metadata": {},
   "outputs": [
    {
     "output_type": "execute_result",
     "data": {
      "text/plain": "{'_sa_instance_state': <sqlalchemy.orm.state.InstanceState at 0x1fae563be48>,\n 'longitude': -157.8168,\n 'name': 'WAIKIKI 717.2, HI US',\n 'id': 1,\n 'elevation': 3.0,\n 'latitude': 21.2716,\n 'station': 'USC00519397'}"
     },
     "metadata": {},
     "execution_count": 94
    }
   ],
   "source": [
    "# Display Station data in dictionary format\n",
    "first_row_station = session.query(Station).first()\n",
    "first_row_station.__dict__"
   ]
  },
  {
   "cell_type": "code",
   "execution_count": 95,
   "metadata": {},
   "outputs": [],
   "source": [
    "# Design a query to show how many stations are available in this dataset?\n",
    ""
   ]
  },
  {
   "cell_type": "code",
   "execution_count": 96,
   "metadata": {},
   "outputs": [],
   "source": [
    "# What are the most active stations? (i.e. what stations have the most rows)?\n",
    "# List the stations and the counts in descending order.\n",
    ""
   ]
  },
  {
   "cell_type": "code",
   "execution_count": 97,
   "metadata": {},
   "outputs": [],
   "source": [
    "# Using the station id from the previous query, calculate the lowest temperature recorded, \n",
    "# highest temperature recorded, and average temperature of the most active station?\n",
    ""
   ]
  },
  {
   "cell_type": "code",
   "execution_count": 98,
   "metadata": {},
   "outputs": [],
   "source": [
    "# Choose the station with the highest number of temperature observations. (use func.max or func.count)\n",
    "# Query the last 12 months of temperature observation data for this station and plot the results as a histogram with bins=12\n",
    ""
   ]
  },
  {
   "cell_type": "markdown",
   "metadata": {},
   "source": [
    "## Bonus Challenge Assignment"
   ]
  },
  {
   "cell_type": "code",
   "execution_count": 99,
   "metadata": {},
   "outputs": [
    {
     "output_type": "stream",
     "name": "stdout",
     "text": "[(62.0, 69.57142857142857, 74.0)]\n"
    }
   ],
   "source": [
    "# This function called `calc_temps` will accept start date and end date in the format '%Y-%m-%d' \n",
    "# and return the minimum, average, and maximum temperatures for that range of dates\n",
    "def calc_temps(start_date, end_date):\n",
    "    \"\"\"TMIN, TAVG, and TMAX for a list of dates.\n",
    "    \n",
    "    Args:\n",
    "        start_date (string): A date string in the format %Y-%m-%d\n",
    "        end_date (string): A date string in the format %Y-%m-%d\n",
    "        \n",
    "    Returns:\n",
    "        TMIN, TAVE, and TMAX\n",
    "    \"\"\"\n",
    "    \n",
    "    return session.query(func.min(Measurement.tobs), func.avg(Measurement.tobs), func.max(Measurement.tobs)).\\\n",
    "        filter(Measurement.date >= start_date).filter(Measurement.date <= end_date).all()\n",
    "\n",
    "# function usage example\n",
    "print(calc_temps('2012-02-28', '2012-03-05'))"
   ]
  },
  {
   "cell_type": "code",
   "execution_count": 100,
   "metadata": {},
   "outputs": [],
   "source": [
    "# Use your previous function `calc_temps` to calculate the tmin, tavg, and tmax \n",
    "# for your trip using the previous year's data for those same dates.\n",
    ""
   ]
  },
  {
   "cell_type": "code",
   "execution_count": 101,
   "metadata": {},
   "outputs": [],
   "source": [
    "# Plot the results from your previous query as a bar chart. \n",
    "# Use \"Trip Avg Temp\" as your Title\n",
    "# Use the average temperature for the y value\n",
    "# Use the peak-to-peak (tmax-tmin) value as the y error bar (yerr)\n",
    ""
   ]
  },
  {
   "cell_type": "code",
   "execution_count": 102,
   "metadata": {},
   "outputs": [],
   "source": [
    "# Calculate the total amount of rainfall per weather station for your trip dates using the previous year's matching dates.\n",
    "# Sort this in descending order by precipitation amount and list the station, name, latitude, longitude, and elevation\n",
    "\n",
    ""
   ]
  },
  {
   "cell_type": "code",
   "execution_count": 103,
   "metadata": {},
   "outputs": [
    {
     "output_type": "execute_result",
     "data": {
      "text/plain": "[(62.0, 69.15384615384616, 77.0)]"
     },
     "metadata": {},
     "execution_count": 103
    }
   ],
   "source": [
    "# Create a query that will calculate the daily normals \n",
    "# (i.e. the averages for tmin, tmax, and tavg for all historic data matching a specific month and day)\n",
    "\n",
    "def daily_normals(date):\n",
    "    \"\"\"Daily Normals.\n",
    "    \n",
    "    Args:\n",
    "        date (str): A date string in the format '%m-%d'\n",
    "        \n",
    "    Returns:\n",
    "        A list of tuples containing the daily normals, tmin, tavg, and tmax\n",
    "    \n",
    "    \"\"\"\n",
    "    \n",
    "    sel = [func.min(Measurement.tobs), func.avg(Measurement.tobs), func.max(Measurement.tobs)]\n",
    "    return session.query(*sel).filter(func.strftime(\"%m-%d\", Measurement.date) == date).all()\n",
    "    \n",
    "daily_normals(\"01-01\")"
   ]
  },
  {
   "cell_type": "code",
   "execution_count": 104,
   "metadata": {},
   "outputs": [],
   "source": [
    "# calculate the daily normals for your trip\n",
    "# push each tuple of calculations into a list called `normals`\n",
    "\n",
    "# Set the start and end date of the trip\n",
    "\n",
    "# Use the start and end date to create a range of dates\n",
    "\n",
    "# Stip off the year and save a list of %m-%d strings\n",
    "\n",
    "# Loop through the list of %m-%d strings and calculate the normals for each date\n",
    ""
   ]
  },
  {
   "cell_type": "code",
   "execution_count": 105,
   "metadata": {},
   "outputs": [],
   "source": [
    "# Load the previous query results into a Pandas DataFrame and add the `trip_dates` range as the `date` index\n",
    ""
   ]
  },
  {
   "cell_type": "code",
   "execution_count": 106,
   "metadata": {},
   "outputs": [],
   "source": [
    "# Plot the daily normals as an area plot with `stacked=False`\n",
    ""
   ]
  }
 ],
 "metadata": {
  "kernel_info": {
   "name": "python3"
  },
  "kernelspec": {
   "display_name": "Python 3.7.6 64-bit ('PythonData': conda)",
   "language": "python",
   "name": "python37664bitpythondataconda7b76faf93e6a485bb209245349a7d6ad"
  },
  "language_info": {
   "codemirror_mode": {
    "name": "ipython",
    "version": 3
   },
   "file_extension": ".py",
   "mimetype": "text/x-python",
   "name": "python",
   "nbconvert_exporter": "python",
   "pygments_lexer": "ipython3",
   "version": "3.6.10-final"
  },
  "nteract": {
   "version": "0.12.3"
  },
  "varInspector": {
   "cols": {
    "lenName": 16,
    "lenType": 16,
    "lenVar": 40
   },
   "kernels_config": {
    "python": {
     "delete_cmd_postfix": "",
     "delete_cmd_prefix": "del ",
     "library": "var_list.py",
     "varRefreshCmd": "print(var_dic_list())"
    },
    "r": {
     "delete_cmd_postfix": ") ",
     "delete_cmd_prefix": "rm(",
     "library": "var_list.r",
     "varRefreshCmd": "cat(var_dic_list()) "
    }
   },
   "types_to_exclude": [
    "module",
    "function",
    "builtin_function_or_method",
    "instance",
    "_Feature"
   ],
   "window_display": false
  }
 },
 "nbformat": 4,
 "nbformat_minor": 2
}